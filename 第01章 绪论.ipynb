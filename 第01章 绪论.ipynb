{
 "nbformat": 4,
 "nbformat_minor": 2,
 "metadata": {
  "language_info": {
   "name": "python",
   "codemirror_mode": {
    "name": "ipython",
    "version": 3
   },
   "version": "3.6.2-final"
  },
  "orig_nbformat": 2,
  "file_extension": ".py",
  "mimetype": "text/x-python",
  "name": "python",
  "npconvert_exporter": "python",
  "pygments_lexer": "ipython3",
  "version": 3,
  "kernelspec": {
   "name": "python36264bitpy3condab5e638c816e74e20902219e2b7f9cf05",
   "display_name": "Python 3.6.2 64-bit ('py3': conda)"
  }
 },
 "cells": [
  {
   "cell_type": "markdown",
   "execution_count": 1,
   "metadata": {},
   "outputs": [
    {
     "name": "stdout",
     "output_type": "stream",
     "text": "hello\n"
    }
   ],
   "source": [
    "# 《神经网络与深度学习》学习笔记\n",
    "## 第1章 绪论\n",
    "* 深度学习是**机器学习**的一个分支，是指一类**问题**以及这类问题的**解决方法**。\n",
    "* 神经网络与深度学习并不等价。深度学习可以采用神经网络模型，也可以采用其他模型。"
   ]
  },
  {
   "cell_type": "markdown",
   "execution_count": null,
   "metadata": {},
   "outputs": [],
   "source": [
    "### 1.1 人工智能\n",
    "* 人工智能领域三个方面：感知、学习、认知。\n",
    "\n",
    "#### 1.1.1 人工智能的发展历史\n",
    "* 推理期、知识期、学习期。\n",
    "\n",
    "#### 1.1.2 人工智能的流派\n",
    "* 符号主义、连接主义。"
   ]
  },
  {
   "cell_type": "markdown",
   "execution_count": null,
   "metadata": {},
   "outputs": [],
   "source": [
    "### 1.2 神经网络\n",
    "* **人工神经网络**简称**神经网络**，是一种模仿人脑神经系统的数学模型。\n",
    "\n",
    "#### 1.2.1 人脑神经网络\n",
    "* 基本概念：细胞体、细胞突起（树突、轴突）。\n",
    "* 神经元信号：兴奋、抑制。\n",
    "* 赫布理论\n",
    "\n",
    "#### 1.2.2 人工神经网络\n",
    "* 首个可学习的人工神经网络：赫布网络\n",
    "* 最早具有机器学习思想的神经网络：感知器\n",
    "* 解决多层神经网络学习问题：反向传播算法\n",
    "* 人工神经网络模型的塑造任何函数能力的大小被称为**网络容量**。\n",
    "\n",
    "#### 1.2.3 神经网络的发展历史\n",
    "* 模型提出、冰河期、反向传播算法引起的复兴、流行度降低、深度学习的崛起"
   ]
  },
  {
   "cell_type": "markdown",
   "execution_count": null,
   "metadata": {},
   "outputs": [],
   "source": [
    "### 1.3 机器学习\n",
    "* 机器学习是指从有限的观测数据中学习出具有一般性的规律，并将这些规律应用到未观测样本上的方法。\n",
    "* 实际任务中使用机器学习模型的步骤：数据预处理、特征提取、特征转换、预测。其中前三个都是特征处理，第四个是浅层学习。"
   ]
  },
  {
   "cell_type": "markdown",
   "execution_count": null,
   "metadata": {},
   "outputs": [],
   "source": [
    "### 1.4 表示学习\n",
    "* **表示(Representation)**：将输入的信息转换为有效的特征。\n",
    "* **表示学习**：一种算法，可以自动地学习出有效的特征，并提高最终机器学习模型的性能。\n",
    "\n",
    "#### 1.4.1 局部表示和分布表示\n",
    "* 局部表示：离散表示、符号表示，one-hot向量。\n",
    "* 分布表示：例如RGB的连续值。\n",
    "\n",
    "#### 1.4.2 表示学习"
   ]
  },
  {
   "cell_type": "markdown",
   "execution_count": null,
   "metadata": {},
   "outputs": [],
   "source": [
    "### 1.5 深度学习\n",
    "* “**深度**”指的是原始数据进行非线性特征转换的次数。\n",
    "* **贡献度分配问题**是深度学习的关键问题。\n",
    "* 深度学习的数据处理流程：原始数据、底层特征、中层特征、高层特征、预测、结果。其中底层特征到中层特征的部分是表示学习，底层特征到预测的部分是深度学习。\n",
    "\n",
    "#### 1.5.1 端到端学习\n",
    "* **端到端学习**也称**端到端训练**，是指学习过程中不尽兴分模块或分阶段进行训练，直接有话任务的总体目标。\n",
    "* 与深度学习一样，**贡献度分配问题**是重点。\n",
    "\n",
    "#### 1.5.2 常用的深度学习框架\n",
    "* Theano、Caffe、TensorFlow、Pytorch、Keras\n",
    "* 本学习笔记将使用Python + Pytorch"
   ]
  },
  {
   "cell_type": "markdown",
   "execution_count": null,
   "metadata": {},
   "outputs": [],
   "source": [
    "### 1.6 本书的组织结构\n",
    "* 机器学习、神经网络、概率图模型三部分"
   ]
  }
 ]
}