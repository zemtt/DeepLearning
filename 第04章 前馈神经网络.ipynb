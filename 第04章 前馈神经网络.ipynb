{
 "nbformat": 4,
 "nbformat_minor": 2,
 "metadata": {
  "language_info": {
   "name": "python",
   "codemirror_mode": {
    "name": "ipython",
    "version": 3
   },
   "version": "3.6.2-final"
  },
  "orig_nbformat": 2,
  "file_extension": ".py",
  "mimetype": "text/x-python",
  "name": "python",
  "npconvert_exporter": "python",
  "pygments_lexer": "ipython3",
  "version": 3,
  "kernelspec": {
   "name": "python36264bitpy3condab5e638c816e74e20902219e2b7f9cf05",
   "display_name": "Python 3.6.2 64-bit ('py3': conda)"
  }
 },
 "cells": [
  {
   "cell_type": "markdown",
   "execution_count": null,
   "metadata": {},
   "outputs": [],
   "source": [
    "# 《神经网络与深度学习》学习笔记\n",
    "## 第4章 前馈神经网络"
   ]
  },
  {
   "cell_type": "markdown",
   "execution_count": null,
   "metadata": {},
   "outputs": [],
   "source": [
    "### 4.1 神经元\n",
    "* 净输入：$ z = \\mathbf{w}^{\\mathrm{T}}\\mathbf{x} + b$\n",
    "* 激活函数：$f(*)$\n",
    "  * 连续可导(允许少数点上不可导)的非线性函数。\n",
    "  * 尽可能简单以提高计算效率。\n",
    "  * 激活函数的导函数的值域需要在一个合适的区间内。\n",
    "* 活性值：$a = f\\left(z\\right)$\n",
    "\n",
    "#### 4.1.1 Sigmoid型激活函数\n",
    "* Sigmoid型激活函数指的是一类S型曲线函数。\n",
    "* Logistic函数：$\\sigma(x)=\\frac{1}{1+\\exp (-x)}$\n",
    "* Tanh函数：$\\mathrm{tanh}\\left(x\\right)=\\frac{\\exp\\left(x\\right)-\\exp\\left(-x\\right)}{\\exp\\left(x\\right)+\\exp\\left(-x\\right)}$\n",
    "* $\\mathrm{tanh}\\left(x\\right)=2\\sigma(2x)-1$\n",
    "* Hard-Logistic和Hard-Tanh函数：在一定区域内用一阶泰勒占来代替。\n",
    "\n",
    "#### 4.1.2 修正单元\n",
    "* $\\mathrm{ReLU}(x) = \\max(0, x)$\n",
    "* $\\mathrm{LeakyReLU}(x) = \\max(x, \\gamma x)$\n",
    "* $\\mathrm{PReLU}(x) = \\max(0, x) + \\gamma_{i}\\min(0,x)$\n",
    "* $\\mathrm{ELU}(x) = \\max(0, x) + \\min\\left(0, \\gamma\\left(\\exp\\left(x\\right)-1\\right)\\right)$\n",
    "* $\\mathrm{Softplus}(x) = \\log(1 + \\exp(x))$\n",
    "\n",
    "#### 4.1.3 Swish函数\n",
    "* $\\mathrm{swish}(x)=x\\sigma(\\beta x)$\n",
    "* $\\beta$为可学习的超参数，当$\\sigma(\\beta x)$接近1时，激活函数值接近$x$，当$\\sigma(\\beta x)$接近0时，激活函数的输出近似于0。\n",
    "\n",
    "#### 4.1.4 高斯误差线性单元\n",
    "* 利用正态分布的累计分布函数。\n",
    "\n",
    "#### 4.1.5 Maxout单元\n",
    "* $\\mathrm{maxout}(x) = \\max_{k\\in[1,K]}(z_{k})$"
   ]
  },
  {
   "cell_type": "markdown",
   "execution_count": null,
   "metadata": {},
   "outputs": [],
   "source": [
    "### 4.2 网络结构\n",
    "* 前馈网络、记忆网络、图网络"
   ]
  },
  {
   "cell_type": "markdown",
   "execution_count": null,
   "metadata": {},
   "outputs": [],
   "source": [
    "### 4.3 前馈神经网络\n",
    "* 组成：输入层、隐藏层、输出层\n",
    "* $\\mathbf{z}^{(l)} = W^{(l)}\\cdot\\mathbf{a}^{(l-1)}+\\mathbf{b}^{(l)}$\n",
    "* $\\mathbf{a}^{(l)}=f_l(\\mathbf{z}^{(l)})$\n",
    "\n",
    "#### 4.3.1 通用近似定理\n",
    "* 常见的连续非线性函数都可以用前馈神经网络来近似。\n",
    "\n",
    "#### 4.3.2 应用到机器学习\n",
    "* 最后一层设置$C$个神经元，其激活函数为softmax函数，输出的值可以作为每个类的后验概率。\n",
    "\n",
    "#### 4.3.3 参数学习\n",
    "* 使用交叉熵损失函数，来迭代更新参数。\n",
    "* 对每个参数进行求偏导比较低效，一般使用反向传播算法。"
   ]
  },
  {
   "cell_type": "markdown",
   "execution_count": null,
   "metadata": {},
   "outputs": [],
   "source": [
    "### 4.4 反向传播算法\n",
    "* 前馈计算每一层的净输入$\\mathbf{z}^{(l)}$和激活值$\\mathbf{a}^{(l)}$，直到最后一层；\n",
    "* 反向传播计算每一层的误差项$\\delta^{(l)}$；\n",
    "* 计算每一层参数的偏导数，并更新参数。"
   ]
  },
  {
   "cell_type": "markdown",
   "execution_count": null,
   "metadata": {},
   "outputs": [],
   "source": [
    "### 4.5 自动梯度计算\n",
    "* 数值微分：利用数值方法来计算函数的导数。\n",
    "* 符号微分：基于符号计算的自动求导方法。\n",
    "* 自动微分：符号微分的程序。"
   ]
  },
  {
   "cell_type": "markdown",
   "execution_count": null,
   "metadata": {},
   "outputs": [],
   "source": [
    "### 4.6 优化问题\n",
    "* 非凸优化问题\n",
    "* 梯度小时问题"
   ]
  },
  {
   "cell_type": "code",
   "execution_count": 5,
   "metadata": {},
   "outputs": [],
   "source": [
    "# 前馈神经网络Pytorch实现\n",
    "import torch\n",
    "from torch import nn\n",
    "from torch.utils.data import DataLoader\n",
    "from torchvision import datasets, transforms\n",
    "\n",
    "batch_size = 64\n",
    "learning_rate = 1e-2\n",
    "num_epochs = 50\n",
    "use_gpu = torch.cuda.is_available()\n",
    "\n",
    "# 下载训练集 MNIST 手写数字训练集\n",
    "train_dataset = datasets.FashionMNIST(\n",
    "    root='./datasets', train=True,\n",
    "    transform=transforms.ToTensor(), download=True)\n",
    "\n",
    "test_dataset = datasets.FashionMNIST(\n",
    "    root='./datasets', train=False,\n",
    "    transform=transforms.ToTensor())\n",
    "\n",
    "train_loader = DataLoader(train_dataset, batch_size=batch_size, shuffle=True)\n",
    "test_loader = DataLoader(test_dataset, batch_size=batch_size, shuffle=False)\n"
   ]
  },
  {
   "cell_type": "code",
   "execution_count": 8,
   "metadata": {},
   "outputs": [],
   "source": [
    "# 定义简单的前馈神经网络\n",
    "class NeuralNetwork(nn.Module):\n",
    "    def __init__(self, in_dim, n_hidden_1, n_hidden_2, out_dim):\n",
    "        super(NeuralNetwork, self).__init__()\n",
    "        self.layer1 = nn.Sequential(\n",
    "            nn.Linear(in_dim, n_hidden_1),\n",
    "            nn.ReLU(True))\n",
    "        self.layer2 = nn.Sequential(\n",
    "            nn.Linear(n_hidden_1, n_hidden_2),\n",
    "            nn.ReLU(True))\n",
    "        self.layer3 = nn.Sequential(\n",
    "            nn.Linear(n_hidden_2, out_dim),\n",
    "            nn.ReLU(True))\n",
    "\n",
    "    def forward(self, x):\n",
    "        x = self.layer1(x)\n",
    "        x = self.layer2(x)\n",
    "        x = self.layer3(x)\n",
    "        return x\n"
   ]
  },
  {
   "cell_type": "code",
   "execution_count": 14,
   "metadata": {},
   "outputs": [],
   "source": [
    "model = NeuralNetwork(28 * 28, 100, 30, 10)\n",
    "if use_gpu:\n",
    "    model = model.cuda()\n",
    "\n",
    "criterion = nn.CrossEntropyLoss()\n",
    "optimizer = torch.optim.SGD(model.parameters(), lr=learning_rate)"
   ]
  },
  {
   "cell_type": "code",
   "execution_count": 15,
   "metadata": {},
   "outputs": [
    {
     "name": "stdout",
     "output_type": "stream",
     "text": "**********\nepoch 1\n[1/50] Loss: 2.271728, Acc: 0.187240\n[1/50] Loss: 2.182293, Acc: 0.286380\n[1/50] Loss: 2.045416, Acc: 0.342483\nFinish 1 epoch, Loss: 2.025991, Acc: 0.348664\nTest Loss: 1.566071, Acc: 0.479996\n\n**********\nepoch 2\n[2/50] Loss: 1.468649, Acc: 0.491719\n[2/50] Loss: 1.408114, Acc: 0.500130\n[2/50] Loss: 1.367240, Acc: 0.512483\nFinish 2 epoch, Loss: 1.360993, Acc: 0.515192\nTest Loss: 1.266726, Acc: 0.537619\n\n**********\nepoch 3\n[3/50] Loss: 1.236760, Acc: 0.559271\n[3/50] Loss: 1.221126, Acc: 0.567005\n[3/50] Loss: 1.200834, Acc: 0.575660\nFinish 3 epoch, Loss: 1.197690, Acc: 0.576892\nTest Loss: 1.167985, Acc: 0.591262\n\n**********\nepoch 4\n[4/50] Loss: 1.139646, Acc: 0.597240\n[4/50] Loss: 1.119782, Acc: 0.602266\n[4/50] Loss: 1.113937, Acc: 0.603229\nFinish 4 epoch, Loss: 1.112869, Acc: 0.603611\nTest Loss: 1.100582, Acc: 0.600219\n\n**********\nepoch 5\n[5/50] Loss: 1.078928, Acc: 0.612344\n[5/50] Loss: 1.075522, Acc: 0.612839\n[5/50] Loss: 1.071083, Acc: 0.613663\nFinish 5 epoch, Loss: 1.069239, Acc: 0.614022\nTest Loss: 1.069361, Acc: 0.609475\n\n**********\nepoch 6\n[6/50] Loss: 1.040966, Acc: 0.623802\n[6/50] Loss: 1.040839, Acc: 0.622109\n[6/50] Loss: 1.045535, Acc: 0.620156\nFinish 6 epoch, Loss: 1.046575, Acc: 0.619919\nTest Loss: 1.055413, Acc: 0.613455\n\n**********\nepoch 7\n[7/50] Loss: 1.031839, Acc: 0.624323\n[7/50] Loss: 1.038073, Acc: 0.620391\n[7/50] Loss: 1.033491, Acc: 0.622344\nFinish 7 epoch, Loss: 1.032174, Acc: 0.623101\nTest Loss: 1.048219, Acc: 0.614053\n\n**********\nepoch 8\n[8/50] Loss: 1.024824, Acc: 0.623177\n[8/50] Loss: 1.025124, Acc: 0.623854\n[8/50] Loss: 1.021095, Acc: 0.625087\nFinish 8 epoch, Loss: 1.022503, Acc: 0.624284\nTest Loss: 1.042671, Acc: 0.614550\n\n**********\nepoch 9\n[9/50] Loss: 1.006530, Acc: 0.629740\n[9/50] Loss: 1.008151, Acc: 0.630078\n[9/50] Loss: 1.012895, Acc: 0.627969\nFinish 9 epoch, Loss: 1.013194, Acc: 0.627549\nTest Loss: 1.027771, Acc: 0.618232\n\n**********\nepoch 10\n[10/50] Loss: 1.013012, Acc: 0.628125\n[10/50] Loss: 1.006544, Acc: 0.630104\n[10/50] Loss: 1.007950, Acc: 0.628594\nFinish 10 epoch, Loss: 1.006591, Acc: 0.629015\nTest Loss: 1.022979, Acc: 0.622014\n\n**********\nepoch 11\n[11/50] Loss: 0.996407, Acc: 0.628802\n[11/50] Loss: 0.999400, Acc: 0.629271\n[11/50] Loss: 0.998665, Acc: 0.630399\nFinish 11 epoch, Loss: 0.999758, Acc: 0.630147\nTest Loss: 1.035545, Acc: 0.618631\n\n**********\nepoch 12\n[12/50] Loss: 1.002001, Acc: 0.630677\n[12/50] Loss: 0.995800, Acc: 0.632161\n[12/50] Loss: 0.993303, Acc: 0.632656\nFinish 12 epoch, Loss: 0.994845, Acc: 0.632113\nTest Loss: 1.029942, Acc: 0.618929\n\n**********\nepoch 13\n[13/50] Loss: 0.993290, Acc: 0.628958\n[13/50] Loss: 0.992394, Acc: 0.630938\n[13/50] Loss: 0.989734, Acc: 0.632344\nFinish 13 epoch, Loss: 0.989252, Acc: 0.632479\nTest Loss: 1.010298, Acc: 0.624801\n\n**********\nepoch 14\n[14/50] Loss: 0.996453, Acc: 0.630833\n[14/50] Loss: 0.991551, Acc: 0.632214\n[14/50] Loss: 0.985817, Acc: 0.633993\nFinish 14 epoch, Loss: 0.984797, Acc: 0.634345\nTest Loss: 1.010446, Acc: 0.626990\n\n**********\nepoch 15\n[15/50] Loss: 0.974925, Acc: 0.635677\n[15/50] Loss: 0.974520, Acc: 0.636901\n[15/50] Loss: 0.979144, Acc: 0.635260\nFinish 15 epoch, Loss: 0.980299, Acc: 0.634678\nTest Loss: 1.006088, Acc: 0.623905\n\n**********\nepoch 16\n[16/50] Loss: 0.961001, Acc: 0.640625\n[16/50] Loss: 0.969284, Acc: 0.638359\n[16/50] Loss: 0.973549, Acc: 0.636927\nFinish 16 epoch, Loss: 0.975331, Acc: 0.636077\nTest Loss: 1.002796, Acc: 0.624900\n\n**********\nepoch 17\n[17/50] Loss: 0.971435, Acc: 0.636927\n[17/50] Loss: 0.966279, Acc: 0.638568\n[17/50] Loss: 0.970196, Acc: 0.636858\nFinish 17 epoch, Loss: 0.971925, Acc: 0.636461\nTest Loss: 1.005898, Acc: 0.623308\n\n**********\nepoch 18\n"
    },
    {
     "ename": "KeyboardInterrupt",
     "evalue": "",
     "output_type": "error",
     "traceback": [
      "\u001b[0;31m---------------------------------------------------------------------------\u001b[0m",
      "\u001b[0;31mKeyboardInterrupt\u001b[0m                         Traceback (most recent call last)",
      "\u001b[0;32m<ipython-input-15-d8c8da44c635>\u001b[0m in \u001b[0;36m<module>\u001b[0;34m\u001b[0m\n\u001b[1;32m      4\u001b[0m     \u001b[0mrunning_loss\u001b[0m \u001b[0;34m=\u001b[0m \u001b[0;36m0.0\u001b[0m\u001b[0;34m\u001b[0m\u001b[0m\n\u001b[1;32m      5\u001b[0m     \u001b[0mrunning_acc\u001b[0m \u001b[0;34m=\u001b[0m \u001b[0;36m0.0\u001b[0m\u001b[0;34m\u001b[0m\u001b[0m\n\u001b[0;32m----> 6\u001b[0;31m     \u001b[0;32mfor\u001b[0m \u001b[0mi\u001b[0m\u001b[0;34m,\u001b[0m \u001b[0mdata\u001b[0m \u001b[0;32min\u001b[0m \u001b[0menumerate\u001b[0m\u001b[0;34m(\u001b[0m\u001b[0mtrain_loader\u001b[0m\u001b[0;34m,\u001b[0m \u001b[0;36m1\u001b[0m\u001b[0;34m)\u001b[0m\u001b[0;34m:\u001b[0m\u001b[0;34m\u001b[0m\u001b[0m\n\u001b[0m\u001b[1;32m      7\u001b[0m         \u001b[0mimg\u001b[0m\u001b[0;34m,\u001b[0m \u001b[0mlabel\u001b[0m \u001b[0;34m=\u001b[0m \u001b[0mdata\u001b[0m\u001b[0;34m\u001b[0m\u001b[0m\n\u001b[1;32m      8\u001b[0m         \u001b[0mimg\u001b[0m \u001b[0;34m=\u001b[0m \u001b[0mimg\u001b[0m\u001b[0;34m.\u001b[0m\u001b[0mview\u001b[0m\u001b[0;34m(\u001b[0m\u001b[0mimg\u001b[0m\u001b[0;34m.\u001b[0m\u001b[0msize\u001b[0m\u001b[0;34m(\u001b[0m\u001b[0;36m0\u001b[0m\u001b[0;34m)\u001b[0m\u001b[0;34m,\u001b[0m \u001b[0;34m-\u001b[0m\u001b[0;36m1\u001b[0m\u001b[0;34m)\u001b[0m\u001b[0;34m\u001b[0m\u001b[0m\n",
      "\u001b[0;32m~/anaconda2/envs/py3/lib/python3.6/site-packages/torch/utils/data/dataloader.py\u001b[0m in \u001b[0;36m__next__\u001b[0;34m(self)\u001b[0m\n\u001b[1;32m    343\u001b[0m \u001b[0;34m\u001b[0m\u001b[0m\n\u001b[1;32m    344\u001b[0m     \u001b[0;32mdef\u001b[0m \u001b[0m__next__\u001b[0m\u001b[0;34m(\u001b[0m\u001b[0mself\u001b[0m\u001b[0;34m)\u001b[0m\u001b[0;34m:\u001b[0m\u001b[0;34m\u001b[0m\u001b[0m\n\u001b[0;32m--> 345\u001b[0;31m         \u001b[0mdata\u001b[0m \u001b[0;34m=\u001b[0m \u001b[0mself\u001b[0m\u001b[0;34m.\u001b[0m\u001b[0m_next_data\u001b[0m\u001b[0;34m(\u001b[0m\u001b[0;34m)\u001b[0m\u001b[0;34m\u001b[0m\u001b[0m\n\u001b[0m\u001b[1;32m    346\u001b[0m         \u001b[0mself\u001b[0m\u001b[0;34m.\u001b[0m\u001b[0m_num_yielded\u001b[0m \u001b[0;34m+=\u001b[0m \u001b[0;36m1\u001b[0m\u001b[0;34m\u001b[0m\u001b[0m\n\u001b[1;32m    347\u001b[0m         \u001b[0;32mif\u001b[0m \u001b[0mself\u001b[0m\u001b[0;34m.\u001b[0m\u001b[0m_dataset_kind\u001b[0m \u001b[0;34m==\u001b[0m \u001b[0m_DatasetKind\u001b[0m\u001b[0;34m.\u001b[0m\u001b[0mIterable\u001b[0m \u001b[0;32mand\u001b[0m\u001b[0;31m \u001b[0m\u001b[0;31m\\\u001b[0m\u001b[0;34m\u001b[0m\u001b[0m\n",
      "\u001b[0;32m~/anaconda2/envs/py3/lib/python3.6/site-packages/torch/utils/data/dataloader.py\u001b[0m in \u001b[0;36m_next_data\u001b[0;34m(self)\u001b[0m\n\u001b[1;32m    383\u001b[0m     \u001b[0;32mdef\u001b[0m \u001b[0m_next_data\u001b[0m\u001b[0;34m(\u001b[0m\u001b[0mself\u001b[0m\u001b[0;34m)\u001b[0m\u001b[0;34m:\u001b[0m\u001b[0;34m\u001b[0m\u001b[0m\n\u001b[1;32m    384\u001b[0m         \u001b[0mindex\u001b[0m \u001b[0;34m=\u001b[0m \u001b[0mself\u001b[0m\u001b[0;34m.\u001b[0m\u001b[0m_next_index\u001b[0m\u001b[0;34m(\u001b[0m\u001b[0;34m)\u001b[0m  \u001b[0;31m# may raise StopIteration\u001b[0m\u001b[0;34m\u001b[0m\u001b[0m\n\u001b[0;32m--> 385\u001b[0;31m         \u001b[0mdata\u001b[0m \u001b[0;34m=\u001b[0m \u001b[0mself\u001b[0m\u001b[0;34m.\u001b[0m\u001b[0m_dataset_fetcher\u001b[0m\u001b[0;34m.\u001b[0m\u001b[0mfetch\u001b[0m\u001b[0;34m(\u001b[0m\u001b[0mindex\u001b[0m\u001b[0;34m)\u001b[0m  \u001b[0;31m# may raise StopIteration\u001b[0m\u001b[0;34m\u001b[0m\u001b[0m\n\u001b[0m\u001b[1;32m    386\u001b[0m         \u001b[0;32mif\u001b[0m \u001b[0mself\u001b[0m\u001b[0;34m.\u001b[0m\u001b[0m_pin_memory\u001b[0m\u001b[0;34m:\u001b[0m\u001b[0;34m\u001b[0m\u001b[0m\n\u001b[1;32m    387\u001b[0m             \u001b[0mdata\u001b[0m \u001b[0;34m=\u001b[0m \u001b[0m_utils\u001b[0m\u001b[0;34m.\u001b[0m\u001b[0mpin_memory\u001b[0m\u001b[0;34m.\u001b[0m\u001b[0mpin_memory\u001b[0m\u001b[0;34m(\u001b[0m\u001b[0mdata\u001b[0m\u001b[0;34m)\u001b[0m\u001b[0;34m\u001b[0m\u001b[0m\n",
      "\u001b[0;32m~/anaconda2/envs/py3/lib/python3.6/site-packages/torch/utils/data/_utils/fetch.py\u001b[0m in \u001b[0;36mfetch\u001b[0;34m(self, possibly_batched_index)\u001b[0m\n\u001b[1;32m     42\u001b[0m     \u001b[0;32mdef\u001b[0m \u001b[0mfetch\u001b[0m\u001b[0;34m(\u001b[0m\u001b[0mself\u001b[0m\u001b[0;34m,\u001b[0m \u001b[0mpossibly_batched_index\u001b[0m\u001b[0;34m)\u001b[0m\u001b[0;34m:\u001b[0m\u001b[0;34m\u001b[0m\u001b[0m\n\u001b[1;32m     43\u001b[0m         \u001b[0;32mif\u001b[0m \u001b[0mself\u001b[0m\u001b[0;34m.\u001b[0m\u001b[0mauto_collation\u001b[0m\u001b[0;34m:\u001b[0m\u001b[0;34m\u001b[0m\u001b[0m\n\u001b[0;32m---> 44\u001b[0;31m             \u001b[0mdata\u001b[0m \u001b[0;34m=\u001b[0m \u001b[0;34m[\u001b[0m\u001b[0mself\u001b[0m\u001b[0;34m.\u001b[0m\u001b[0mdataset\u001b[0m\u001b[0;34m[\u001b[0m\u001b[0midx\u001b[0m\u001b[0;34m]\u001b[0m \u001b[0;32mfor\u001b[0m \u001b[0midx\u001b[0m \u001b[0;32min\u001b[0m \u001b[0mpossibly_batched_index\u001b[0m\u001b[0;34m]\u001b[0m\u001b[0;34m\u001b[0m\u001b[0m\n\u001b[0m\u001b[1;32m     45\u001b[0m         \u001b[0;32melse\u001b[0m\u001b[0;34m:\u001b[0m\u001b[0;34m\u001b[0m\u001b[0m\n\u001b[1;32m     46\u001b[0m             \u001b[0mdata\u001b[0m \u001b[0;34m=\u001b[0m \u001b[0mself\u001b[0m\u001b[0;34m.\u001b[0m\u001b[0mdataset\u001b[0m\u001b[0;34m[\u001b[0m\u001b[0mpossibly_batched_index\u001b[0m\u001b[0;34m]\u001b[0m\u001b[0;34m\u001b[0m\u001b[0m\n",
      "\u001b[0;32m~/anaconda2/envs/py3/lib/python3.6/site-packages/torch/utils/data/_utils/fetch.py\u001b[0m in \u001b[0;36m<listcomp>\u001b[0;34m(.0)\u001b[0m\n\u001b[1;32m     42\u001b[0m     \u001b[0;32mdef\u001b[0m \u001b[0mfetch\u001b[0m\u001b[0;34m(\u001b[0m\u001b[0mself\u001b[0m\u001b[0;34m,\u001b[0m \u001b[0mpossibly_batched_index\u001b[0m\u001b[0;34m)\u001b[0m\u001b[0;34m:\u001b[0m\u001b[0;34m\u001b[0m\u001b[0m\n\u001b[1;32m     43\u001b[0m         \u001b[0;32mif\u001b[0m \u001b[0mself\u001b[0m\u001b[0;34m.\u001b[0m\u001b[0mauto_collation\u001b[0m\u001b[0;34m:\u001b[0m\u001b[0;34m\u001b[0m\u001b[0m\n\u001b[0;32m---> 44\u001b[0;31m             \u001b[0mdata\u001b[0m \u001b[0;34m=\u001b[0m \u001b[0;34m[\u001b[0m\u001b[0mself\u001b[0m\u001b[0;34m.\u001b[0m\u001b[0mdataset\u001b[0m\u001b[0;34m[\u001b[0m\u001b[0midx\u001b[0m\u001b[0;34m]\u001b[0m \u001b[0;32mfor\u001b[0m \u001b[0midx\u001b[0m \u001b[0;32min\u001b[0m \u001b[0mpossibly_batched_index\u001b[0m\u001b[0;34m]\u001b[0m\u001b[0;34m\u001b[0m\u001b[0m\n\u001b[0m\u001b[1;32m     45\u001b[0m         \u001b[0;32melse\u001b[0m\u001b[0;34m:\u001b[0m\u001b[0;34m\u001b[0m\u001b[0m\n\u001b[1;32m     46\u001b[0m             \u001b[0mdata\u001b[0m \u001b[0;34m=\u001b[0m \u001b[0mself\u001b[0m\u001b[0;34m.\u001b[0m\u001b[0mdataset\u001b[0m\u001b[0;34m[\u001b[0m\u001b[0mpossibly_batched_index\u001b[0m\u001b[0;34m]\u001b[0m\u001b[0;34m\u001b[0m\u001b[0m\n",
      "\u001b[0;32m~/anaconda2/envs/py3/lib/python3.6/site-packages/torchvision/datasets/mnist.py\u001b[0m in \u001b[0;36m__getitem__\u001b[0;34m(self, index)\u001b[0m\n\u001b[1;32m     95\u001b[0m \u001b[0;34m\u001b[0m\u001b[0m\n\u001b[1;32m     96\u001b[0m         \u001b[0;32mif\u001b[0m \u001b[0mself\u001b[0m\u001b[0;34m.\u001b[0m\u001b[0mtransform\u001b[0m \u001b[0;32mis\u001b[0m \u001b[0;32mnot\u001b[0m \u001b[0;32mNone\u001b[0m\u001b[0;34m:\u001b[0m\u001b[0;34m\u001b[0m\u001b[0m\n\u001b[0;32m---> 97\u001b[0;31m             \u001b[0mimg\u001b[0m \u001b[0;34m=\u001b[0m \u001b[0mself\u001b[0m\u001b[0;34m.\u001b[0m\u001b[0mtransform\u001b[0m\u001b[0;34m(\u001b[0m\u001b[0mimg\u001b[0m\u001b[0;34m)\u001b[0m\u001b[0;34m\u001b[0m\u001b[0m\n\u001b[0m\u001b[1;32m     98\u001b[0m \u001b[0;34m\u001b[0m\u001b[0m\n\u001b[1;32m     99\u001b[0m         \u001b[0;32mif\u001b[0m \u001b[0mself\u001b[0m\u001b[0;34m.\u001b[0m\u001b[0mtarget_transform\u001b[0m \u001b[0;32mis\u001b[0m \u001b[0;32mnot\u001b[0m \u001b[0;32mNone\u001b[0m\u001b[0;34m:\u001b[0m\u001b[0;34m\u001b[0m\u001b[0m\n",
      "\u001b[0;32m~/anaconda2/envs/py3/lib/python3.6/site-packages/torchvision/transforms/transforms.py\u001b[0m in \u001b[0;36m__call__\u001b[0;34m(self, pic)\u001b[0m\n\u001b[1;32m     99\u001b[0m             \u001b[0mTensor\u001b[0m\u001b[0;34m:\u001b[0m \u001b[0mConverted\u001b[0m \u001b[0mimage\u001b[0m\u001b[0;34m.\u001b[0m\u001b[0;34m\u001b[0m\u001b[0m\n\u001b[1;32m    100\u001b[0m         \"\"\"\n\u001b[0;32m--> 101\u001b[0;31m         \u001b[0;32mreturn\u001b[0m \u001b[0mF\u001b[0m\u001b[0;34m.\u001b[0m\u001b[0mto_tensor\u001b[0m\u001b[0;34m(\u001b[0m\u001b[0mpic\u001b[0m\u001b[0;34m)\u001b[0m\u001b[0;34m\u001b[0m\u001b[0m\n\u001b[0m\u001b[1;32m    102\u001b[0m \u001b[0;34m\u001b[0m\u001b[0m\n\u001b[1;32m    103\u001b[0m     \u001b[0;32mdef\u001b[0m \u001b[0m__repr__\u001b[0m\u001b[0;34m(\u001b[0m\u001b[0mself\u001b[0m\u001b[0;34m)\u001b[0m\u001b[0;34m:\u001b[0m\u001b[0;34m\u001b[0m\u001b[0m\n",
      "\u001b[0;32m~/anaconda2/envs/py3/lib/python3.6/site-packages/torchvision/transforms/functional.py\u001b[0m in \u001b[0;36mto_tensor\u001b[0;34m(pic)\u001b[0m\n\u001b[1;32m     85\u001b[0m         \u001b[0mimg\u001b[0m \u001b[0;34m=\u001b[0m \u001b[0;36m255\u001b[0m \u001b[0;34m*\u001b[0m \u001b[0mtorch\u001b[0m\u001b[0;34m.\u001b[0m\u001b[0mfrom_numpy\u001b[0m\u001b[0;34m(\u001b[0m\u001b[0mnp\u001b[0m\u001b[0;34m.\u001b[0m\u001b[0marray\u001b[0m\u001b[0;34m(\u001b[0m\u001b[0mpic\u001b[0m\u001b[0;34m,\u001b[0m \u001b[0mnp\u001b[0m\u001b[0;34m.\u001b[0m\u001b[0muint8\u001b[0m\u001b[0;34m,\u001b[0m \u001b[0mcopy\u001b[0m\u001b[0;34m=\u001b[0m\u001b[0;32mFalse\u001b[0m\u001b[0;34m)\u001b[0m\u001b[0;34m)\u001b[0m\u001b[0;34m\u001b[0m\u001b[0m\n\u001b[1;32m     86\u001b[0m     \u001b[0;32melse\u001b[0m\u001b[0;34m:\u001b[0m\u001b[0;34m\u001b[0m\u001b[0m\n\u001b[0;32m---> 87\u001b[0;31m         \u001b[0mimg\u001b[0m \u001b[0;34m=\u001b[0m \u001b[0mtorch\u001b[0m\u001b[0;34m.\u001b[0m\u001b[0mByteTensor\u001b[0m\u001b[0;34m(\u001b[0m\u001b[0mtorch\u001b[0m\u001b[0;34m.\u001b[0m\u001b[0mByteStorage\u001b[0m\u001b[0;34m.\u001b[0m\u001b[0mfrom_buffer\u001b[0m\u001b[0;34m(\u001b[0m\u001b[0mpic\u001b[0m\u001b[0;34m.\u001b[0m\u001b[0mtobytes\u001b[0m\u001b[0;34m(\u001b[0m\u001b[0;34m)\u001b[0m\u001b[0;34m)\u001b[0m\u001b[0;34m)\u001b[0m\u001b[0;34m\u001b[0m\u001b[0m\n\u001b[0m\u001b[1;32m     88\u001b[0m     \u001b[0;31m# PIL image mode: L, LA, P, I, F, RGB, YCbCr, RGBA, CMYK\u001b[0m\u001b[0;34m\u001b[0m\u001b[0;34m\u001b[0m\u001b[0m\n\u001b[1;32m     89\u001b[0m     \u001b[0;32mif\u001b[0m \u001b[0mpic\u001b[0m\u001b[0;34m.\u001b[0m\u001b[0mmode\u001b[0m \u001b[0;34m==\u001b[0m \u001b[0;34m'YCbCr'\u001b[0m\u001b[0;34m:\u001b[0m\u001b[0;34m\u001b[0m\u001b[0m\n",
      "\u001b[0;31mKeyboardInterrupt\u001b[0m: "
     ]
    }
   ],
   "source": [
    "for epoch in range(num_epochs):\n",
    "    print('*' * 10)\n",
    "    print(f'epoch {epoch+1}')\n",
    "    running_loss = 0.0\n",
    "    running_acc = 0.0\n",
    "    for i, data in enumerate(train_loader, 1):\n",
    "        img, label = data\n",
    "        img = img.view(img.size(0), -1)\n",
    "        if use_gpu:\n",
    "            img = img.cuda()\n",
    "            label = label.cuda()\n",
    "        # 向前传播\n",
    "        out = model(img)\n",
    "        loss = criterion(out, label)\n",
    "        running_loss += loss.item()\n",
    "        _, pred = torch.max(out, 1)\n",
    "        running_acc += (pred == label).float().mean()\n",
    "        # 向后传播\n",
    "        optimizer.zero_grad()\n",
    "        loss.backward()\n",
    "        optimizer.step()\n",
    "\n",
    "        if i % 300 == 0:\n",
    "            print(f'[{epoch+1}/{num_epochs}] Loss: {running_loss/i:.6f}, Acc: {running_acc/i:.6f}')\n",
    "    print(f'Finish {epoch+1} epoch, Loss: {running_loss/i:.6f}, Acc: {running_acc/i:.6f}')\n",
    "    model.eval()\n",
    "    eval_loss = 0.\n",
    "    eval_acc = 0.\n",
    "    for data in test_loader:\n",
    "        img, label = data\n",
    "        img = img.view(img.size(0), -1)\n",
    "        if use_gpu:\n",
    "            img = img.cuda()\n",
    "            label = label.cuda()\n",
    "        with torch.no_grad():\n",
    "            out = model(img)\n",
    "            loss = criterion(out, label)\n",
    "        eval_loss += loss.item()\n",
    "        _, pred = torch.max(out, 1)\n",
    "        eval_acc += (pred == label).float().mean()\n",
    "    print(f'Test Loss: {eval_loss/len(test_loader):.6f}, Acc: {eval_acc/len(test_loader):.6f}\\n')\n",
    "\n",
    "# 保存模型\n",
    "torch.save(model.state_dict(), './neural_network.pth')"
   ]
  }
 ]
}