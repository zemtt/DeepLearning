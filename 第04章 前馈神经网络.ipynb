{
 "nbformat": 4,
 "nbformat_minor": 2,
 "metadata": {
  "language_info": {
   "name": "python",
   "codemirror_mode": {
    "name": "ipython",
    "version": 3
   }
  },
  "orig_nbformat": 2,
  "file_extension": ".py",
  "mimetype": "text/x-python",
  "name": "python",
  "npconvert_exporter": "python",
  "pygments_lexer": "ipython3",
  "version": 3
 },
 "cells": [
  {
   "cell_type": "markdown",
   "execution_count": null,
   "metadata": {},
   "outputs": [],
   "source": [
    "# 《神经网络与深度学习》学习笔记\n",
    "## 第4章 前馈神经网络"
   ]
  },
  {
   "cell_type": "markdown",
   "execution_count": null,
   "metadata": {},
   "outputs": [],
   "source": [
    "### 4.1 神经元\n",
    "* 净输入：$ z = \\mathbf{w}^{\\mathrm{T}}\\mathbf{x} + b$\n",
    "* 激活函数：$f(*)$\n",
    "  * 连续可导(允许少数点上不可导)的非线性函数。\n",
    "  * 尽可能简单以提高计算效率。\n",
    "  * 激活函数的导函数的值域需要在一个合适的区间内。\n",
    "* 活性值：$a = f\\left(z\\right)$\n",
    "\n",
    "#### 4.1.1 Sigmoid型激活函数\n",
    "* Sigmoid型激活函数指的是一类S型曲线函数。\n",
    "* Logistic函数：$\\sigma(x)=\\frac{1}{1+\\exp (-x)}$\n",
    "* Tanh函数：$\\mathrm{tanh}\\left(x\\right)=\\frac{\\exp\\left(x\\right)-\\exp\\left(-x\\right)}{\\exp\\left(x\\right)+\\exp\\left(-x\\right)}$\n",
    "* $\\mathrm{tanh}\\left(x\\right)=2\\sigma(2x)-1$\n",
    "* Hard-Logistic和Hard-Tanh函数：在一定区域内用一阶泰勒占来代替。\n",
    "\n",
    "#### 4.1.2 修正单元\n",
    "* $\\mathrm{ReLU}(x) = \\max(0, x)$\n",
    "* $\\mathrm{LeakyReLU}(x) = \\max(x, \\gamma x)$\n",
    "* $\\mathrm{PReLU}(x) = \\max(0, x) + \\gamma_{i}\\min(0,x)$\n",
    "* $\\mathrm{ELU}(x) = \\max(0, x) + \\min\\left(0, \\gamma\\left(\\exp\\left(x\\right)-1\\right)\\right)$\n",
    "* $\\mathrm{Softplus}(x) = \\log(1 + \\exp(x))$\n",
    "\n",
    "#### 4.1.3 Swish函数\n",
    "* $\\mathrm{swish}(x)=x\\sigma(\\beta x)$\n",
    "* $\\beta$为可学习的超参数，当$\\sigma(\\beta x)$接近1时，激活函数值接近$x$，当$\\sigma(\\beta x)$接近0时，激活函数的输出近似于0。\n",
    "\n",
    "#### 4.1.4 高斯误差线性单元\n",
    "* 利用正态分布的累计分布函数。\n",
    "\n",
    "#### 4.1.5 Maxout单元\n",
    "* $\\mathrm{maxout}(x) = \\max_{k\\in[1,K]}(z_{k})$"
   ]
  },
  {
   "cell_type": "markdown",
   "execution_count": null,
   "metadata": {},
   "outputs": [],
   "source": [
    "### 4.2 网络结构\n",
    "* 前馈网络、记忆网络、图网络"
   ]
  },
  {
   "cell_type": "markdown",
   "execution_count": null,
   "metadata": {},
   "outputs": [],
   "source": [
    "### 4.3 前馈神经网络\n",
    "* 组成：输入层、隐藏层、输出层\n",
    "* $\\mathbf{z}^{(l)} = W^{(l)}\\cdot\\mathbf{a}^{(l-1)}+\\mathbf{b}^{(l)}$\n",
    "* $\\mathbf{a}^{(l)}=f_l(\\mathbf{z}^{(l)})$\n",
    "\n",
    "#### 4.3.1 通用近似定理\n",
    "* 常见的连续非线性函数都可以用前馈神经网络来近似。\n",
    "\n",
    "#### 4.3.2 应用到机器学习\n",
    "* 最后一层设置$C$个神经元，其激活函数为softmax函数，输出的值可以作为每个类的后验概率。\n",
    "\n",
    "#### 4.3.3 参数学习\n",
    "* 使用交叉熵损失函数，来迭代更新参数。\n",
    "* 对每个参数进行求偏导比较低效，一般使用反向传播算法。"
   ]
  },
  {
   "cell_type": "markdown",
   "execution_count": null,
   "metadata": {},
   "outputs": [],
   "source": [
    "### 4.4 反向传播算法\n",
    "* 前馈计算每一层的净输入$\\mathbf{z}^{(l)}$和激活值$\\mathbf{a}^{(l)}$，直到最后一层；\n",
    "* 反向传播计算每一层的误差项$\\delta^{(l)}$；\n",
    "* 计算每一层参数的偏导数，并更新参数。"
   ]
  },
  {
   "cell_type": "markdown",
   "execution_count": null,
   "metadata": {},
   "outputs": [],
   "source": [
    "### 4.5 自动梯度计算\n",
    "* 数值微分：利用数值方法来计算函数的导数。\n",
    "* 符号微分：基于符号计算的自动求导方法。\n",
    "* 自动微分：符号微分的程序。"
   ]
  },
  {
   "cell_type": "markdown",
   "execution_count": null,
   "metadata": {},
   "outputs": [],
   "source": [
    "### 4.6 优化问题\n",
    "* 非凸优化问题\n",
    "* 梯度小时问题"
   ]
  },
  {
   "cell_type": "code",
   "execution_count": 1,
   "metadata": {},
   "outputs": [
    {
     "name": "stdout",
     "output_type": "stream",
     "text": "Downloading http://fashion-mnist.s3-website.eu-central-1.amazonaws.com/train-images-idx3-ubyte.gz to ./datasets/FashionMNIST/raw/train-images-idx3-ubyte.gz\n12.7%"
    }
   ],
   "source": [
    "# 前馈神经网络Pytorch实现\n",
    "import torch\n",
    "from torch import nn\n",
    "from torch.utils.data import DataLoader\n",
    "from torchvision import datasets, transforms\n",
    "\n",
    "batch_size = 64\n",
    "learning_rate = 1e-2\n",
    "num_epochs = 50\n",
    "\n",
    "# 下载训练集 MNIST 手写数字训练集\n",
    "train_dataset = datasets.FashionMNIST(\n",
    "    root='./datasets', train=True,\n",
    "    transform=transforms.ToTensor(), download=True)\n",
    "\n",
    "test_dataset = datasets.FashionMNIST(\n",
    "    root='./datasets', train=False,\n",
    "    transform=transforms.ToTensor())\n",
    "\n",
    "train_loader = DataLoader(train_dataset, batch_size=batch_size, shuffle=True)\n",
    "test_loader = DataLoader(test_dataset, batch_size=batch_size, shuffle=False)\n",
    "\n",
    "# 定义简单的前馈神经网络\n",
    "class NeuralNetwork(nn.Module):\n",
    "    def __init__(self, in_dim, n_hidden_1, n_hidden_2, out_dim):\n",
    "        super(neuralNetwork, self).__init__()\n",
    "        self.layer1 = nn.Sequential(\n",
    "            nn.Linear(in_dim, n_hidden_1),\n",
    "            nn.ReLU(True))\n",
    "        self.layer2 = nn.Sequential(\n",
    "            nn.Linear(n_hidden_1, n_hidden_2),\n",
    "            nn.ReLU(True))\n",
    "        self.layer3 = nn.Sequential(\n",
    "            nn.Linear(n_hidden_2, out_dim),\n",
    "            nn.ReLU(True))\n",
    "\n",
    "    def forward(self, x):\n",
    "        x = self.layer1(x)\n",
    "        x = self.layer2(x)\n",
    "        x = self.layer3(x)\n",
    "        return x"
   ]
  },
  {
   "cell_type": "markdown",
   "execution_count": null,
   "metadata": {},
   "outputs": [],
   "source": [
    "* 1\n",
    "* 1\n",
    "* 1\n",
    "* 1\n",
    "* 1\n",
    "* 1\n",
    "* 1\n",
    "* 1\n",
    "* 1\n",
    "* 1\n",
    "* 1\n",
    "* 1\n",
    "* 1\n",
    "* 1\n",
    "* 1\n",
    "* 1\n",
    "* 1\n",
    "* 1\n",
    "* 1\n",
    "* 1\n",
    "* 1\n",
    "* 1\n",
    "* 1\n",
    "* 1\n",
    "* 1\n"
   ]
  }
 ]
}