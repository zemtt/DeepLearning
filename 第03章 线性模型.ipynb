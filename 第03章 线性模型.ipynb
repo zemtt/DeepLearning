{
 "nbformat": 4,
 "nbformat_minor": 2,
 "metadata": {
  "language_info": {
   "name": "python",
   "codemirror_mode": {
    "name": "ipython",
    "version": 3
   },
   "version": "3.6.2-final"
  },
  "orig_nbformat": 2,
  "file_extension": ".py",
  "mimetype": "text/x-python",
  "name": "python",
  "npconvert_exporter": "python",
  "pygments_lexer": "ipython3",
  "version": 3,
  "kernelspec": {
   "name": "python36264bit2044ea387b9340689ece04357539fae4",
   "display_name": "Python 3.6.2 64-bit"
  }
 },
 "cells": [
  {
   "cell_type": "markdown",
   "execution_count": null,
   "metadata": {},
   "outputs": [],
   "source": [
    "# 《神经网络与深度学习》学习笔记\n",
    "## 第3章 线性模型\n",
    "* 线性模型是机器学习中应用最广泛的模型，形如：$f\\left(\\mathbf{x} ; \\mathbf{w}\\right)=\\mathbf{w}^{\\mathrm{T}}\\mathrm{x} + b$。\n",
    "* 分类问题中，输出目标$y$是一些离散的标签，而$f\\left(\\mathbf{x} ; \\mathbf{w}\\right)$的值域为实数，因此需要引入一个非线性的决策函数$g(*)$来预测输出目标，形如：$y=g\\left(f\\left(\\mathbf{x} ; \\mathbf{w}\\right)\\right)$。"
   ]
  },
  {
   "cell_type": "markdown",
   "execution_count": null,
   "metadata": {},
   "outputs": [],
   "source": [
    "### 3.1 线性判别函数和决策边界\n",
    "\n",
    "#### 3.1.1 两分类问题\n",
    "* 空间内满足$f\\left(\\mathrm{x} ; \\mathrm{w}\\right) = 0$的点组成的超平面称为决策边界或者决策平面。\n",
    "\n",
    "#### 3.1.2 多分类问题\n",
    "* 有多个决策平面。\n",
    "* 判别方式：一对其余、一对一、argmax。"
   ]
  },
  {
   "cell_type": "markdown",
   "execution_count": null,
   "metadata": {},
   "outputs": [],
   "source": [
    "### 3.2 Logistic回归\n",
    "* $ p \\left(y = 0|\\mathbf{x}\\right) = \\frac{1}{1+\\exp{\\left(-\\mathbf{w}^{\\mathrm{T}}\\mathbf{x}\\right)}}$\n",
    "* $ \\mathbf{w}^{\\mathrm{T}}\\mathbf{x} = \\log\\frac{p \\left(y = 1|\\mathbf{x}\\right)}{p \\left(y = 0|\\mathbf{x}\\right)}$\n",
    "#### 3.2.1 参数学习\n",
    "* 梯度下降法、牛顿法"
   ]
  },
  {
   "cell_type": "markdown",
   "execution_count": null,
   "metadata": {},
   "outputs": [],
   "source": [
    "### 3.3 Softmax回归\n",
    "* $p \\left(y = c|\\mathbf{x}\\right) = \\frac{\\exp{\\left(\\mathbf{w}^{\\mathrm{T}}_{c}\\mathbf{x}\\right)}}{\\sum_{c'=1}^{C}\\exp{\\left(\\mathbf{w}^{\\mathrm{T}}_{c'}\\mathbf{x}\\right)}}$\n",
    "* $\\mathbf{\\hat{y}} = \\frac{\\exp\\left(W^{\\mathrm{T}}\\mathbf{x}\\right)}{\\mathbf{1}^{\\mathrm{T}}\\exp\\left(W^{\\mathrm{T}}\\mathbf{x}\\right)}$\n",
    "\n",
    "#### 3.3.1 参数学习\n",
    "* 同Logistic"
   ]
  },
  {
   "cell_type": "markdown",
   "execution_count": null,
   "metadata": {},
   "outputs": [],
   "source": [
    "### 3.4 感知器\n",
    "* 感知器是一种使用广泛的线性分类器，是最简单的神经网络，只有一个神经元。\n",
    "* $\\hat{y} = \\mathrm{sgn}\\left(\\mathbf{w}^{\\mathrm{T}}\\mathbf{x}\\right)$\n",
    "\n",
    "#### 3.4.1 参数学习\n",
    "* $y\\mathbf{w}^{\\mathrm{T}}\\mathbf{x}<0$时，$\\mathbf{w} \\leftarrow \\mathbf{w}+y \\mathbf{x}$\n",
    "\n",
    "#### 3.4.2 感知器的收敛性\n",
    "* 感知器具有收敛性，算法会在$\\frac{R^2}{\\gamma^{2}}$步内收敛，具体看教材。\n",
    "\n",
    "#### 3.4.3 参数平均感知器\n",
    "* 投票感知器：\n",
    "  * $\\hat{y} = \\mathrm{sgn}\\left(\\sum^{K}_{k=1} c_{k} \\mathrm{sgn}\\left(\\mathbf{w}_{k}^{T}\\mathbf{x}\\right)\\right)$\n",
    "* 平均感知器：\n",
    "  * $\\hat{y} = \\mathrm{sgn}\\left(\\sum^{K}_{k=1} c_{k} \\left(\\mathbf{w}_{k}^{T}\\mathbf{x}\\right)\\right) = \\mathrm{sgn}\\left(\\bar{\\mathbf{w}}^{T}\\mathbf{x}\\right)$\n",
    "\n",
    "#### 3.4.4 扩展到多类分类"
   ]
  },
  {
   "cell_type": "code",
   "execution_count": 5,
   "metadata": {},
   "outputs": [
    {
     "data": {
      "image/png": "[encoded data removed]",
      "text/plain": "<Figure size 432x288 with 1 Axes>"
     },
     "metadata": {
      "needs_background": "light"
     },
     "output_type": "display_data"
    }
   ],
   "source": [
    "# 感知器Pytorch实现\n",
    "import torch\n",
    "import matplotlib.pyplot as plt\n",
    "\n",
    "N = 100\n",
    "\n",
    "# 数据生成\n",
    "X = torch.rand([2, N]) * 10 - 5\n",
    "W = torch.rand([2, 1]) - 0.5\n",
    "W_a = torch.ones([2, 1])\n",
    "Y = W.t().mm(X).sign()\n",
    "X += torch.rand([2, N]) * 3 - 1.5 # 添加噪声\n",
    "\n",
    "# 散点绘制\n",
    "for i in range(N):\n",
    "    plt.scatter(X[0][i],X[1][i],c=(\"red\" if Y[0][i]>0 else \"blue\"))\n",
    "\n",
    "# W_a拟合\n",
    "for i in range(N):\n",
    "    y = Y.index_select(1,torch.LongTensor([i]))\n",
    "    x = X.index_select(1,torch.LongTensor([i]))\n",
    "    if y.mm(W.t().mm(X))[0][0] < 0:\n",
    "         W_a += y[0][0] * x\n",
    "\n",
    "k =  - W_a[0] / W_a[1]\n",
    "mx, my = (6, 6*k) if abs(k) < 1 else (6/k, 6)\n",
    "\n",
    "plt.plot([mx, -mx], [my, -my])\n",
    "plt.show()"
   ]
  },
  {
   "cell_type": "markdown",
   "execution_count": null,
   "metadata": {},
   "outputs": [],
   "source": [
    "### 3.5 支持向量机\n",
    "* SVM是一个经典的两类分类算法，鲁棒性更好。\n",
    "* SVM的核心就是找到一个超平面使得$\\gamma$最小，$\\gamma$的含义是所有点与超平面的距离中最短的一条。\n",
    "\n",
    "#### 3.5.1 参数学习\n",
    "* 拉格朗日乘数法，再用SMO算法凸优化。\n",
    "\n",
    "#### 3.5.2 核函数\n",
    "* $\\begin{aligned} f(\\mathbf{x}) &=\\operatorname{sgn}\\left(\\mathbf{w}^{* \\mathrm{T}} \\phi(\\mathbf{x})+b^{*}\\right) \\\\ &=\\operatorname{sgn}\\left(\\sum_{n=1}^{N} \\lambda_{n}^{*} y^{(n)} K\\left(\\mathbf{x}^{(n)}, \\mathbf{x}\\right)+b^{*}\\right) \\end{aligned}$\n",
    "\n",
    "#### 3.5.3 软间隔\n",
    "* 核函数核软间隔有点难懂，时间有点赶，先抓一下进度，回头再来好好看这些。"
   ]
  },
  {
   "cell_type": "markdown",
   "execution_count": null,
   "metadata": {},
   "outputs": [],
   "source": [
    "### 3.6 损失函数对比\n",
    "* 仔细看图，除了平方损失函数，其他损失函数都适用与两类分类问题。"
   ]
  }
 ]
}