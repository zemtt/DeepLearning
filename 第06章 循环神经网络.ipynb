{
 "nbformat": 4,
 "nbformat_minor": 2,
 "metadata": {
  "language_info": {
   "name": "python",
   "codemirror_mode": {
    "name": "ipython",
    "version": 3
   }
  },
  "orig_nbformat": 2,
  "file_extension": ".py",
  "mimetype": "text/x-python",
  "name": "python",
  "npconvert_exporter": "python",
  "pygments_lexer": "ipython3",
  "version": 3
 },
 "cells": [
  {
   "cell_type": "markdown",
   "metadata": {},
   "source": [
    "# 《神经网络与深度学习》学习笔记\n",
    "## 第6章 循环神经网络\n",
    "* 循环神经网络：具有短期记忆能力。\n",
    "* 参数学习：随时间反向传播算法。\n",
    "* 长程依赖问题：门控机制。\n",
    "* 广义记忆网络：递归神经网络、图网络。"
   ]
  },
  {
   "cell_type": "markdown",
   "metadata": {},
   "source": [
    "### 6.1 给网络增加记忆能力\n",
    "\n",
    "#### 6.1.1 延时神经网络\n",
    "* 非输出层都添加一个延时器，记录最近几次神经元的输出。\n",
    "* $\\mathbf{h}_t^{(l+1)} = f(\\mathbf{h}_t^{(l)},\\mathbf{h}_{t-1}^{(l)},...,\\mathbf{h}_{t-p}^{(l)})$\n",
    "\n",
    "#### 6.1.2 有外部输入的非线性回归模型\n",
    "* 自回归模型：$\\mathbf{y}_t=w_0+\\sum^{p}_{i=1}\\mathbf{y}_{t-i}+\\epsilon_{t}$\n",
    "* 有外部输入的非线性回归模型：$\\mathbf{y}_t=f(\\mathbf{x}_t,...,\\mathbf{x}_{t-p},\\mathbf{y}_t,...,\\mathbf{y}_{t-q})$\n",
    "\n",
    "#### 6.1.3 循环神经网络\n",
    "* $\\mathbf{h}_t=f(\\mathbf{h}_{t-1}, \\mathbf{x}_t)$"
   ]
  },
  {
   "cell_type": "markdown",
   "metadata": {},
   "source": [
    "### 6.2 简单循环网络\n",
    "* $\\mathbf{z}_t = U\\mathbf{h}_{t-t}+W\\mathbf{x}_{t}+\\mathbf{b}$\n",
    "* $\\mathbf{h}_t=f(\\mathbf{z}_t)$\n",
    "\n",
    "#### 6.2.1 循环神经网络的计算能力\n",
    "* 全连接的循环网络是任何非线性动力系统的近似器。\n",
    "* 一个完全连接的循环神经网络可以近似解决所有的可计算问题。"
   ]
  },
  {
   "cell_type": "markdown",
   "metadata": {},
   "source": [
    "###"
   ]
  },
  {
   "cell_type": "markdown",
   "metadata": {},
   "source": [
    "* 1\n",
    "* 1\n",
    "* 1\n",
    "* 1\n",
    "* 1\n",
    "* 1\n",
    "* 1\n",
    "* 1\n",
    "* 1\n",
    "* 1\n",
    "* 1\n",
    "* 1\n",
    "* 1\n",
    "* 1\n",
    "* 1\n",
    "* 1\n",
    "* 1\n",
    "* 1\n",
    "* 1\n",
    "* 1\n",
    "* 1\n",
    "* 1\n",
    "* 1\n",
    "* 1\n",
    "* 1\n",
    "* 1\n",
    "* 1\n",
    "* 1\n",
    "* 1\n"
   ]
  }
 ]
}